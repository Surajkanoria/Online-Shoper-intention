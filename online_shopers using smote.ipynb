{
 "cells": [
  {
   "cell_type": "markdown",
   "id": "fc0bdaea",
   "metadata": {},
   "source": [
    "# Online Shoppers Intention"
   ]
  },
  {
   "cell_type": "markdown",
   "id": "6806658a",
   "metadata": {},
   "source": [
    "### Problem Statement - \n",
    "In this project we aim to analyse shoppers intention or behaviour and \n",
    "determine to predict whether or not revenue will be generated from the given web analytics information of a customer."
   ]
  },
  {
   "cell_type": "markdown",
   "id": "5bfa96db",
   "metadata": {},
   "source": [
    "## Data Information :-\n",
    "\n",
    "1. \"Administrative\", \"Administrative Duration\", \"Informational\", \"Informational Duration\", \"Product Related\" and \"Product Related Duration\" represent the number of different types of pages visited by the visitor in that session and total time spent in each of these page categories. The values of these features are derived from the URL information of the pages visited by the user and updated in real time when a user takes an action, e.g. moving from one page to another.\n",
    "2. The \"Bounce Rate\", \"Exit Rate\" and \"Page Value\" features represent the metrics measured by \"Google Analytics\" for each page in the e-commerce site.\n",
    "3. The value of \"Bounce Rate\" feature for a web page refers to the percentage of visitors who enter the site from that page and then leave (\"bounce\") without triggering any other requests to the analytics server during that session.\n",
    "4. The value of \"Exit Rate\" feature for a specific web page is calculated as for all pageviews to the page, the percentage that were the last in the session.\n",
    "5. The \"Page Value\" feature represents the average value for a web page that a user visited before completing an e-commerce transaction.\n",
    "6. The \"Special Day\" feature indicates the closeness of the site visiting time to a specific special day (e.g. Mother’s Day, Valentine's Day) in which the sessions are more likely to be finalized with transaction. The value of this attribute is determined by considering the dynamics of e-commerce such as the duration between the order date and delivery date. For example, for Valentina’s day, this value takes a nonzero value between February 2 and February 12, zero before and after this date unless it is close to another special day, and its maximum value of 1 on February 8.\n",
    "7. The dataset also includes operating system, browser, region, traffic type, visitor type as returning or new visitor, a Boolean value indicating whether the date of the visit is weekend, and month of the year."
   ]
  },
  {
   "cell_type": "code",
   "execution_count": 1,
   "id": "124a2ba0",
   "metadata": {},
   "outputs": [],
   "source": [
    "## Importing libraries\n",
    "import seaborn as sns\n",
    "import matplotlib.pyplot as plt\n",
    "import numpy as np\n",
    "import pandas as pd\n",
    "from sklearn.preprocessing import StandardScaler\n",
    "from sklearn.model_selection import train_test_split, GridSearchCV, cross_val_score, StratifiedKFold\n",
    "from sklearn.linear_model import LogisticRegression\n",
    "from sklearn.metrics import classification_report,accuracy_score,confusion_matrix, roc_curve, auc\n",
    "from sklearn.ensemble import RandomForestClassifier\n",
    "from sklearn.decomposition import PCA\n",
    "import lightgbm as lgm\n",
    "import pylab as pl\n",
    "import warnings\n",
    "warnings.filterwarnings('ignore')\n",
    "from sklearn.model_selection import KFold\n",
    "plt.rcParams['figure.figsize'] = [15,8]"
   ]
  },
  {
   "cell_type": "code",
   "execution_count": 2,
   "id": "ce048e4e",
   "metadata": {},
   "outputs": [
    {
     "data": {
      "text/html": [
       "<div>\n",
       "<style scoped>\n",
       "    .dataframe tbody tr th:only-of-type {\n",
       "        vertical-align: middle;\n",
       "    }\n",
       "\n",
       "    .dataframe tbody tr th {\n",
       "        vertical-align: top;\n",
       "    }\n",
       "\n",
       "    .dataframe thead th {\n",
       "        text-align: right;\n",
       "    }\n",
       "</style>\n",
       "<table border=\"1\" class=\"dataframe\">\n",
       "  <thead>\n",
       "    <tr style=\"text-align: right;\">\n",
       "      <th></th>\n",
       "      <th>Administrative</th>\n",
       "      <th>Administrative_Duration</th>\n",
       "      <th>Informational</th>\n",
       "      <th>Informational_Duration</th>\n",
       "      <th>ProductRelated</th>\n",
       "      <th>ProductRelated_Duration</th>\n",
       "      <th>BounceRates</th>\n",
       "      <th>ExitRates</th>\n",
       "      <th>PageValues</th>\n",
       "      <th>SpecialDay</th>\n",
       "      <th>Month</th>\n",
       "      <th>OperatingSystems</th>\n",
       "      <th>Browser</th>\n",
       "      <th>Region</th>\n",
       "      <th>TrafficType</th>\n",
       "      <th>VisitorType</th>\n",
       "      <th>Weekend</th>\n",
       "      <th>Revenue</th>\n",
       "    </tr>\n",
       "  </thead>\n",
       "  <tbody>\n",
       "    <tr>\n",
       "      <th>0</th>\n",
       "      <td>0</td>\n",
       "      <td>0.0</td>\n",
       "      <td>0</td>\n",
       "      <td>0.0</td>\n",
       "      <td>1</td>\n",
       "      <td>0.000000</td>\n",
       "      <td>0.20</td>\n",
       "      <td>0.20</td>\n",
       "      <td>0.0</td>\n",
       "      <td>0.0</td>\n",
       "      <td>Feb</td>\n",
       "      <td>1</td>\n",
       "      <td>1</td>\n",
       "      <td>1</td>\n",
       "      <td>1</td>\n",
       "      <td>Returning_Visitor</td>\n",
       "      <td>False</td>\n",
       "      <td>False</td>\n",
       "    </tr>\n",
       "    <tr>\n",
       "      <th>1</th>\n",
       "      <td>0</td>\n",
       "      <td>0.0</td>\n",
       "      <td>0</td>\n",
       "      <td>0.0</td>\n",
       "      <td>2</td>\n",
       "      <td>64.000000</td>\n",
       "      <td>0.00</td>\n",
       "      <td>0.10</td>\n",
       "      <td>0.0</td>\n",
       "      <td>0.0</td>\n",
       "      <td>Feb</td>\n",
       "      <td>2</td>\n",
       "      <td>2</td>\n",
       "      <td>1</td>\n",
       "      <td>2</td>\n",
       "      <td>Returning_Visitor</td>\n",
       "      <td>False</td>\n",
       "      <td>False</td>\n",
       "    </tr>\n",
       "    <tr>\n",
       "      <th>2</th>\n",
       "      <td>0</td>\n",
       "      <td>0.0</td>\n",
       "      <td>0</td>\n",
       "      <td>0.0</td>\n",
       "      <td>1</td>\n",
       "      <td>0.000000</td>\n",
       "      <td>0.20</td>\n",
       "      <td>0.20</td>\n",
       "      <td>0.0</td>\n",
       "      <td>0.0</td>\n",
       "      <td>Feb</td>\n",
       "      <td>4</td>\n",
       "      <td>1</td>\n",
       "      <td>9</td>\n",
       "      <td>3</td>\n",
       "      <td>Returning_Visitor</td>\n",
       "      <td>False</td>\n",
       "      <td>False</td>\n",
       "    </tr>\n",
       "    <tr>\n",
       "      <th>3</th>\n",
       "      <td>0</td>\n",
       "      <td>0.0</td>\n",
       "      <td>0</td>\n",
       "      <td>0.0</td>\n",
       "      <td>2</td>\n",
       "      <td>2.666667</td>\n",
       "      <td>0.05</td>\n",
       "      <td>0.14</td>\n",
       "      <td>0.0</td>\n",
       "      <td>0.0</td>\n",
       "      <td>Feb</td>\n",
       "      <td>3</td>\n",
       "      <td>2</td>\n",
       "      <td>2</td>\n",
       "      <td>4</td>\n",
       "      <td>Returning_Visitor</td>\n",
       "      <td>False</td>\n",
       "      <td>False</td>\n",
       "    </tr>\n",
       "    <tr>\n",
       "      <th>4</th>\n",
       "      <td>0</td>\n",
       "      <td>0.0</td>\n",
       "      <td>0</td>\n",
       "      <td>0.0</td>\n",
       "      <td>10</td>\n",
       "      <td>627.500000</td>\n",
       "      <td>0.02</td>\n",
       "      <td>0.05</td>\n",
       "      <td>0.0</td>\n",
       "      <td>0.0</td>\n",
       "      <td>Feb</td>\n",
       "      <td>3</td>\n",
       "      <td>3</td>\n",
       "      <td>1</td>\n",
       "      <td>4</td>\n",
       "      <td>Returning_Visitor</td>\n",
       "      <td>True</td>\n",
       "      <td>False</td>\n",
       "    </tr>\n",
       "  </tbody>\n",
       "</table>\n",
       "</div>"
      ],
      "text/plain": [
       "   Administrative  Administrative_Duration  Informational  \\\n",
       "0               0                      0.0              0   \n",
       "1               0                      0.0              0   \n",
       "2               0                      0.0              0   \n",
       "3               0                      0.0              0   \n",
       "4               0                      0.0              0   \n",
       "\n",
       "   Informational_Duration  ProductRelated  ProductRelated_Duration  \\\n",
       "0                     0.0               1                 0.000000   \n",
       "1                     0.0               2                64.000000   \n",
       "2                     0.0               1                 0.000000   \n",
       "3                     0.0               2                 2.666667   \n",
       "4                     0.0              10               627.500000   \n",
       "\n",
       "   BounceRates  ExitRates  PageValues  SpecialDay Month  OperatingSystems  \\\n",
       "0         0.20       0.20         0.0         0.0   Feb                 1   \n",
       "1         0.00       0.10         0.0         0.0   Feb                 2   \n",
       "2         0.20       0.20         0.0         0.0   Feb                 4   \n",
       "3         0.05       0.14         0.0         0.0   Feb                 3   \n",
       "4         0.02       0.05         0.0         0.0   Feb                 3   \n",
       "\n",
       "   Browser  Region  TrafficType        VisitorType  Weekend  Revenue  \n",
       "0        1       1            1  Returning_Visitor    False    False  \n",
       "1        2       1            2  Returning_Visitor    False    False  \n",
       "2        1       9            3  Returning_Visitor    False    False  \n",
       "3        2       2            4  Returning_Visitor    False    False  \n",
       "4        3       1            4  Returning_Visitor     True    False  "
      ]
     },
     "execution_count": 2,
     "metadata": {},
     "output_type": "execute_result"
    }
   ],
   "source": [
    "## uploading the dataset\n",
    "d1 = pd.read_csv('online_shoppers_intention.csv')\n",
    "d1.head()"
   ]
  },
  {
   "cell_type": "code",
   "execution_count": 5,
   "id": "8fbf069a",
   "metadata": {},
   "outputs": [
    {
     "data": {
      "text/plain": [
       "0.0    11079\n",
       "0.6      351\n",
       "0.8      325\n",
       "0.4      243\n",
       "0.2      178\n",
       "1.0      154\n",
       "Name: SpecialDay, dtype: int64"
      ]
     },
     "execution_count": 5,
     "metadata": {},
     "output_type": "execute_result"
    }
   ],
   "source": [
    "d1.SpecialDay.value_counts()"
   ]
  },
  {
   "cell_type": "code",
   "execution_count": 3,
   "id": "191a7c72",
   "metadata": {},
   "outputs": [
    {
     "data": {
      "text/plain": [
       "Administrative               int64\n",
       "Administrative_Duration    float64\n",
       "Informational                int64\n",
       "Informational_Duration     float64\n",
       "ProductRelated               int64\n",
       "ProductRelated_Duration    float64\n",
       "BounceRates                float64\n",
       "ExitRates                  float64\n",
       "PageValues                 float64\n",
       "SpecialDay                 float64\n",
       "Month                       object\n",
       "OperatingSystems             int64\n",
       "Browser                      int64\n",
       "Region                       int64\n",
       "TrafficType                  int64\n",
       "VisitorType                 object\n",
       "Weekend                       bool\n",
       "Revenue                       bool\n",
       "dtype: object"
      ]
     },
     "execution_count": 3,
     "metadata": {},
     "output_type": "execute_result"
    }
   ],
   "source": [
    "## checking the datatypes for all variables\n",
    "d1.dtypes"
   ]
  },
  {
   "cell_type": "markdown",
   "id": "f0b9cd57",
   "metadata": {},
   "source": [
    "1.  We can see that some of the varaibles like month, special day, browser, region,\n",
    " traffic type, visitor type, weekend, revenue and operating system are interpretated as int while they should actually be \n",
    " objects, so we need to change their datatype."
   ]
  },
  {
   "cell_type": "code",
   "execution_count": 6,
   "id": "b31c4c0f",
   "metadata": {},
   "outputs": [],
   "source": [
    "d1['OperatingSystems']=d1['OperatingSystems'].astype('object')\n",
    "d1['Browser']=d1['Browser'].astype('object')\n",
    "d1['Region']=d1['Region'].astype('object')\n",
    "d1['TrafficType']=d1['TrafficType'].astype('object')"
   ]
  },
  {
   "cell_type": "markdown",
   "id": "950a1207",
   "metadata": {},
   "source": [
    "# five point summary for numerical variables\n",
    "d1.describe()"
   ]
  },
  {
   "cell_type": "markdown",
   "id": "47df8cad",
   "metadata": {},
   "source": [
    "1. We can see that average bounce rate is 0.02, average exit rate is 0.04 and average page value is 5.88.\n",
    "2. Variation in bounce rate and exit rate is almost same i.e. 0.04, variation in page value is 18.56.\n",
    "3. Administrative duration average is 80.81, average of informational duration is 34.47 and product related average duration is 1194.74."
   ]
  },
  {
   "cell_type": "code",
   "execution_count": 7,
   "id": "21358bfa",
   "metadata": {},
   "outputs": [
    {
     "data": {
      "text/html": [
       "<div>\n",
       "<style scoped>\n",
       "    .dataframe tbody tr th:only-of-type {\n",
       "        vertical-align: middle;\n",
       "    }\n",
       "\n",
       "    .dataframe tbody tr th {\n",
       "        vertical-align: top;\n",
       "    }\n",
       "\n",
       "    .dataframe thead th {\n",
       "        text-align: right;\n",
       "    }\n",
       "</style>\n",
       "<table border=\"1\" class=\"dataframe\">\n",
       "  <thead>\n",
       "    <tr style=\"text-align: right;\">\n",
       "      <th></th>\n",
       "      <th>Month</th>\n",
       "      <th>OperatingSystems</th>\n",
       "      <th>Browser</th>\n",
       "      <th>Region</th>\n",
       "      <th>TrafficType</th>\n",
       "      <th>VisitorType</th>\n",
       "    </tr>\n",
       "  </thead>\n",
       "  <tbody>\n",
       "    <tr>\n",
       "      <th>count</th>\n",
       "      <td>12330</td>\n",
       "      <td>12330</td>\n",
       "      <td>12330</td>\n",
       "      <td>12330</td>\n",
       "      <td>12330</td>\n",
       "      <td>12330</td>\n",
       "    </tr>\n",
       "    <tr>\n",
       "      <th>unique</th>\n",
       "      <td>10</td>\n",
       "      <td>8</td>\n",
       "      <td>13</td>\n",
       "      <td>9</td>\n",
       "      <td>20</td>\n",
       "      <td>3</td>\n",
       "    </tr>\n",
       "    <tr>\n",
       "      <th>top</th>\n",
       "      <td>May</td>\n",
       "      <td>2</td>\n",
       "      <td>2</td>\n",
       "      <td>1</td>\n",
       "      <td>2</td>\n",
       "      <td>Returning_Visitor</td>\n",
       "    </tr>\n",
       "    <tr>\n",
       "      <th>freq</th>\n",
       "      <td>3364</td>\n",
       "      <td>6601</td>\n",
       "      <td>7961</td>\n",
       "      <td>4780</td>\n",
       "      <td>3913</td>\n",
       "      <td>10551</td>\n",
       "    </tr>\n",
       "  </tbody>\n",
       "</table>\n",
       "</div>"
      ],
      "text/plain": [
       "        Month  OperatingSystems  Browser  Region  TrafficType  \\\n",
       "count   12330             12330    12330   12330        12330   \n",
       "unique     10                 8       13       9           20   \n",
       "top       May                 2        2       1            2   \n",
       "freq     3364              6601     7961    4780         3913   \n",
       "\n",
       "              VisitorType  \n",
       "count               12330  \n",
       "unique                  3  \n",
       "top     Returning_Visitor  \n",
       "freq                10551  "
      ]
     },
     "execution_count": 7,
     "metadata": {},
     "output_type": "execute_result"
    }
   ],
   "source": [
    "## five point summary for categorical variables\n",
    "d1.describe(include = 'object')"
   ]
  },
  {
   "cell_type": "markdown",
   "id": "375b2798",
   "metadata": {},
   "source": [
    "1. We can see in the Month variable that May has occured maximum times i.e revenue related information is maximum found in May.\n",
    "2. Returning visitor has occured the most in generating revenue.\n",
    "3. Maxium revenue genrating information is captured from region 1."
   ]
  },
  {
   "cell_type": "markdown",
   "id": "ab8c4152",
   "metadata": {},
   "source": [
    "# Explorartory Data Analysis"
   ]
  },
  {
   "cell_type": "markdown",
   "id": "c6ee2270",
   "metadata": {},
   "source": [
    "### Checking for null values"
   ]
  },
  {
   "cell_type": "code",
   "execution_count": 8,
   "id": "ac602692",
   "metadata": {},
   "outputs": [
    {
     "data": {
      "text/plain": [
       "Administrative             0\n",
       "Administrative_Duration    0\n",
       "Informational              0\n",
       "Informational_Duration     0\n",
       "ProductRelated             0\n",
       "ProductRelated_Duration    0\n",
       "BounceRates                0\n",
       "ExitRates                  0\n",
       "PageValues                 0\n",
       "SpecialDay                 0\n",
       "Month                      0\n",
       "OperatingSystems           0\n",
       "Browser                    0\n",
       "Region                     0\n",
       "TrafficType                0\n",
       "VisitorType                0\n",
       "Weekend                    0\n",
       "Revenue                    0\n",
       "dtype: int64"
      ]
     },
     "execution_count": 8,
     "metadata": {},
     "output_type": "execute_result"
    }
   ],
   "source": [
    "d1.isnull().sum()"
   ]
  },
  {
   "cell_type": "markdown",
   "id": "1d71e2b2",
   "metadata": {},
   "source": [
    "## Univariate analysis"
   ]
  },
  {
   "cell_type": "code",
   "execution_count": 10,
   "id": "f39fe71f",
   "metadata": {},
   "outputs": [
    {
     "data": {
      "image/png": "[encoded data removed]",
      "text/plain": [
       "<Figure size 1080x576 with 9 Axes>"
      ]
     },
     "metadata": {
      "needs_background": "light"
     },
     "output_type": "display_data"
    }
   ],
   "source": [
    "# for the independent numeric variables, we plot the histogram to check the distribution of the variables\n",
    "num = d1.select_dtypes(include = 'number')\n",
    "a = 3\n",
    "b = 3\n",
    "c = 1\n",
    "for i in num.columns:\n",
    "    plt.subplot(a,b,c)\n",
    "    sns.distplot(num.loc[:,i])\n",
    "    plt.xlabel(i)\n",
    "    c = c+1\n",
    "plt.tight_layout()\n",
    "\n",
    "## 1. Distribution plots clearly show that the variables are skewed and need transformation."
   ]
  },
  {
   "cell_type": "code",
   "execution_count": 10,
   "id": "2bedc83d",
   "metadata": {},
   "outputs": [
    {
     "data": {
      "image/png": "[encoded data removed]",
      "text/plain": [
       "<Figure size 1080x576 with 1 Axes>"
      ]
     },
     "metadata": {
      "needs_background": "light"
     },
     "output_type": "display_data"
    }
   ],
   "source": [
    "## countplot for target variable\n",
    "sns.countplot(d1.Revenue)\n",
    "plt.show()"
   ]
  },
  {
   "cell_type": "markdown",
   "id": "d2e0c5b1",
   "metadata": {},
   "source": [
    "Interpretation : The above plot clealry shows that target variable is imbalanced."
   ]
  },
  {
   "cell_type": "markdown",
   "id": "6f84e866",
   "metadata": {},
   "source": [
    "## Bivariate Analysis"
   ]
  },
  {
   "cell_type": "markdown",
   "id": "2c89e401",
   "metadata": {},
   "source": [
    "### Q1 Which visitor type contributes to revenue more ?"
   ]
  },
  {
   "cell_type": "code",
   "execution_count": 9,
   "id": "b7fe4ff4",
   "metadata": {},
   "outputs": [
    {
     "data": {
      "text/plain": [
       "VisitorType        Revenue\n",
       "New_Visitor        False      75.088548\n",
       "                   True       24.911452\n",
       "Other              False      81.176471\n",
       "                   True       18.823529\n",
       "Returning_Visitor  False      86.067671\n",
       "                   True       13.932329\n",
       "Name: Revenue, dtype: float64"
      ]
     },
     "execution_count": 9,
     "metadata": {},
     "output_type": "execute_result"
    }
   ],
   "source": [
    "(d1.groupby('VisitorType')['Revenue'].value_counts()/d1.groupby('VisitorType')['Revenue'].count())*100 "
   ]
  },
  {
   "cell_type": "code",
   "execution_count": 10,
   "id": "0ce5a981",
   "metadata": {},
   "outputs": [
    {
     "data": {
      "text/plain": [
       "<AxesSubplot:xlabel='Revenue'>"
      ]
     },
     "execution_count": 10,
     "metadata": {},
     "output_type": "execute_result"
    },
    {
     "data": {
      "image/png": "[encoded data removed]",
      "text/plain": [
       "<Figure size 1080x576 with 1 Axes>"
      ]
     },
     "metadata": {
      "needs_background": "light"
     },
     "output_type": "display_data"
    }
   ],
   "source": [
    "pd.crosstab(d1.Revenue, d1.VisitorType).plot(kind = 'bar')"
   ]
  },
  {
   "cell_type": "markdown",
   "id": "9cdf433d",
   "metadata": {},
   "source": [
    "Interpretation : \n",
    "1. We can see that only 1470 returning visitor generate revenue and almost 9081 \n",
    "returning visitor do not generate revenue.\n",
    "\n",
    "2. Among new visitors only 422 generate revenue and rest do not generate any revenue.\n",
    "\n",
    "3. It can be clearly seen that the proportion of new vistor contributing to revenue is 24%\n",
    "    more than proportion of returning visitor contributing to revenue that is 13%."
   ]
  },
  {
   "cell_type": "markdown",
   "id": "c58530be",
   "metadata": {},
   "source": [
    "### Q2 Does weekend leads to more revenue ?"
   ]
  },
  {
   "cell_type": "code",
   "execution_count": 13,
   "id": "1ae889f2",
   "metadata": {},
   "outputs": [
    {
     "data": {
      "text/plain": [
       "<AxesSubplot:xlabel='Revenue'>"
      ]
     },
     "execution_count": 13,
     "metadata": {},
     "output_type": "execute_result"
    },
    {
     "data": {
      "image/png": "[encoded data removed]",
      "text/plain": [
       "<Figure size 1080x576 with 1 Axes>"
      ]
     },
     "metadata": {
      "needs_background": "light"
     },
     "output_type": "display_data"
    }
   ],
   "source": [
    "pd.crosstab(d1.Revenue,d1.Weekend).plot(kind = 'bar')"
   ]
  },
  {
   "cell_type": "markdown",
   "id": "9f6c6982",
   "metadata": {},
   "source": [
    "Interpretation : We can clearly see that if its's a weekend then the ideal thought of \n",
    "    having more revenue generation is not satisfied here.\n",
    "    "
   ]
  },
  {
   "cell_type": "markdown",
   "id": "1e230649",
   "metadata": {},
   "source": [
    "### Q3 Which month contributes more towards revenue generation ?"
   ]
  },
  {
   "cell_type": "code",
   "execution_count": 21,
   "id": "31147cd7",
   "metadata": {},
   "outputs": [
    {
     "data": {
      "text/plain": [
       "Month  Revenue\n",
       "Aug    False       357\n",
       "       True         76\n",
       "Dec    False      1511\n",
       "       True        216\n",
       "Feb    False       181\n",
       "       True          3\n",
       "Jul    False       366\n",
       "       True         66\n",
       "June   False       259\n",
       "       True         29\n",
       "Mar    False      1715\n",
       "       True        192\n",
       "May    False      2999\n",
       "       True        365\n",
       "Nov    False      2238\n",
       "       True        760\n",
       "Oct    False       434\n",
       "       True        115\n",
       "Sep    False       362\n",
       "       True         86\n",
       "Name: Revenue, dtype: int64"
      ]
     },
     "execution_count": 21,
     "metadata": {},
     "output_type": "execute_result"
    }
   ],
   "source": [
    "d1.groupby('Month')['Revenue'].value_counts()"
   ]
  },
  {
   "cell_type": "code",
   "execution_count": 14,
   "id": "4c690d3e",
   "metadata": {},
   "outputs": [
    {
     "data": {
      "text/plain": [
       "<AxesSubplot:xlabel='Revenue'>"
      ]
     },
     "execution_count": 14,
     "metadata": {},
     "output_type": "execute_result"
    },
    {
     "data": {
      "image/png": "[encoded data removed]",
      "text/plain": [
       "<Figure size 1080x576 with 1 Axes>"
      ]
     },
     "metadata": {
      "needs_background": "light"
     },
     "output_type": "display_data"
    }
   ],
   "source": [
    "pd.crosstab(d1.Revenue,d1.Month).plot(kind = 'bar')"
   ]
  },
  {
   "cell_type": "markdown",
   "id": "8c84ad90",
   "metadata": {},
   "source": [
    "Interpretation :\n",
    "    \n",
    "    1. Though maximum times May month occurs but maximum revenue generation happens in the month of November.\n",
    "    \n",
    "    2. February and June have almost negligible sales."
   ]
  },
  {
   "cell_type": "markdown",
   "id": "509932d9",
   "metadata": {},
   "source": [
    "### Q4 Which region contributes to revenue more ?"
   ]
  },
  {
   "cell_type": "code",
   "execution_count": 15,
   "id": "84ba9358",
   "metadata": {},
   "outputs": [
    {
     "data": {
      "text/plain": [
       "<AxesSubplot:xlabel='Revenue'>"
      ]
     },
     "execution_count": 15,
     "metadata": {},
     "output_type": "execute_result"
    },
    {
     "data": {
      "image/png": "[encoded data removed]",
      "text/plain": [
       "<Figure size 1080x576 with 1 Axes>"
      ]
     },
     "metadata": {
      "needs_background": "light"
     },
     "output_type": "display_data"
    }
   ],
   "source": [
    "pd.crosstab(d1.Revenue,d1.Region).plot(kind = 'bar')"
   ]
  },
  {
   "cell_type": "code",
   "execution_count": 40,
   "id": "b5be0f13",
   "metadata": {},
   "outputs": [
    {
     "data": {
      "text/plain": [
       "Region  Revenue\n",
       "1       False      83.870293\n",
       "        True       16.129707\n",
       "2       False      83.450704\n",
       "        True       16.549296\n",
       "3       False      85.476488\n",
       "        True       14.523512\n",
       "4       False      85.194585\n",
       "        True       14.805415\n",
       "5       False      83.647799\n",
       "        True       16.352201\n",
       "6       False      86.086957\n",
       "        True       13.913043\n",
       "7       False      84.362681\n",
       "        True       15.637319\n",
       "8       False      87.096774\n",
       "        True       12.903226\n",
       "9       False      83.170254\n",
       "        True       16.829746\n",
       "Name: Revenue, dtype: float64"
      ]
     },
     "execution_count": 40,
     "metadata": {},
     "output_type": "execute_result"
    }
   ],
   "source": [
    "(d1.groupby('Region')['Revenue'].value_counts()/d1.groupby('Region')['Revenue'].count())*100"
   ]
  },
  {
   "cell_type": "markdown",
   "id": "3824063e",
   "metadata": {},
   "source": [
    "Interpretation : \n",
    "     We can see that region 1 occurs the maximum time and it should contributes more towards revenue but most region i.e 1,2,5,9 are contibuting to revenue is 16% ."
   ]
  },
  {
   "cell_type": "markdown",
   "id": "913f025a",
   "metadata": {},
   "source": [
    "### Q5 Average page value and revenue generation "
   ]
  },
  {
   "cell_type": "code",
   "execution_count": 16,
   "id": "22d07123",
   "metadata": {},
   "outputs": [
    {
     "data": {
      "text/plain": [
       "<AxesSubplot:xlabel='Revenue', ylabel='PageValues'>"
      ]
     },
     "execution_count": 16,
     "metadata": {},
     "output_type": "execute_result"
    },
    {
     "data": {
      "image/png": "[encoded data removed]",
      "text/plain": [
       "<Figure size 1080x576 with 1 Axes>"
      ]
     },
     "metadata": {
      "needs_background": "light"
     },
     "output_type": "display_data"
    }
   ],
   "source": [
    "sns.boxplot(d1.Revenue,d1.PageValues)"
   ]
  },
  {
   "cell_type": "markdown",
   "id": "e8e59233",
   "metadata": {},
   "source": [
    "Interpretation :\n",
    "1. We can see that an average page-value of around 20 can be seen for generating revenue.\n",
    "2. We can also see that there are a lot of outliers."
   ]
  },
  {
   "cell_type": "markdown",
   "id": "4c1490b2",
   "metadata": {},
   "source": [
    "## Multivariate Analysis"
   ]
  },
  {
   "cell_type": "markdown",
   "id": "c4f7d296",
   "metadata": {},
   "source": [
    "### Q6 How to differntiate which type of visitor is serious and non-serious ?"
   ]
  },
  {
   "cell_type": "code",
   "execution_count": 17,
   "id": "cd20111e",
   "metadata": {},
   "outputs": [
    {
     "data": {
      "text/plain": [
       "<AxesSubplot:xlabel='VisitorType', ylabel='Administrative_Duration'>"
      ]
     },
     "execution_count": 17,
     "metadata": {},
     "output_type": "execute_result"
    },
    {
     "data": {
      "image/png": "[encoded data removed]",
      "text/plain": [
       "<Figure size 1080x576 with 1 Axes>"
      ]
     },
     "metadata": {
      "needs_background": "light"
     },
     "output_type": "display_data"
    }
   ],
   "source": [
    "## for this question we will look at visiotr type and administrative duration, informational duration and page related duration.\n",
    "sns.boxplot(x=\"VisitorType\",y=\"Administrative_Duration\", data=d1,hue='Revenue')"
   ]
  },
  {
   "cell_type": "code",
   "execution_count": 18,
   "id": "e4896d7e",
   "metadata": {},
   "outputs": [
    {
     "data": {
      "text/plain": [
       "<AxesSubplot:xlabel='VisitorType', ylabel='Informational_Duration'>"
      ]
     },
     "execution_count": 18,
     "metadata": {},
     "output_type": "execute_result"
    },
    {
     "data": {
      "image/png": "[encoded data removed]",
      "text/plain": [
       "<Figure size 1080x576 with 1 Axes>"
      ]
     },
     "metadata": {
      "needs_background": "light"
     },
     "output_type": "display_data"
    }
   ],
   "source": [
    "sns.boxplot(x=\"VisitorType\",y=\"Informational_Duration\", data=d1,hue='Revenue')"
   ]
  },
  {
   "cell_type": "code",
   "execution_count": 19,
   "id": "03b47ace",
   "metadata": {},
   "outputs": [
    {
     "data": {
      "text/plain": [
       "<AxesSubplot:xlabel='VisitorType', ylabel='ProductRelated_Duration'>"
      ]
     },
     "execution_count": 19,
     "metadata": {},
     "output_type": "execute_result"
    },
    {
     "data": {
      "image/png": "[encoded data removed]",
      "text/plain": [
       "<Figure size 1080x576 with 1 Axes>"
      ]
     },
     "metadata": {
      "needs_background": "light"
     },
     "output_type": "display_data"
    }
   ],
   "source": [
    "sns.boxplot(x=\"VisitorType\",y=\"ProductRelated_Duration\", data=d1,hue='Revenue')"
   ]
  },
  {
   "cell_type": "markdown",
   "id": "cf4e45ca",
   "metadata": {},
   "source": [
    "Interpretation :\n",
    "1. Returning visitors shows higher chance of buying a product and are serious customers.\n",
    "2. Also customers who spent most time on product related page shows higher chance of buying a product.\n",
    "3. In contrast, new visitors are hardly purchasing.\n",
    "4. Only returning customers spent time on informational page and buys product"
   ]
  },
  {
   "cell_type": "markdown",
   "id": "e27d9a69",
   "metadata": {},
   "source": [
    "### ------------------------------------------------------------------------------------------------------------"
   ]
  },
  {
   "cell_type": "markdown",
   "id": "339c476b",
   "metadata": {},
   "source": [
    "### Checking for outliers"
   ]
  },
  {
   "cell_type": "code",
   "execution_count": 43,
   "id": "3b6a4f32",
   "metadata": {},
   "outputs": [
    {
     "data": {
      "image/png": "[encoded data removed]",
      "text/plain": [
       "<Figure size 1080x576 with 9 Axes>"
      ]
     },
     "metadata": {
      "needs_background": "light"
     },
     "output_type": "display_data"
    }
   ],
   "source": [
    "a=3\n",
    "b=3\n",
    "c=1\n",
    "for i in d1.select_dtypes(np.number).columns:\n",
    "    plt.subplot(a,b,c)\n",
    "    sns.boxplot(d1.loc[:,i])\n",
    "    plt.title(i)\n",
    "    c=c+1\n",
    "plt.tight_layout()"
   ]
  },
  {
   "cell_type": "markdown",
   "id": "839ee72d",
   "metadata": {},
   "source": [
    "q3 = d1.quantile(0.75)\n",
    "q1 = d1.quantile(0.25)\n",
    "iqr = q3 - q1\n",
    "d2 = d1[~((d1<(q1-1.5*iqr))|(d1>(q3+1.5*iqr))).any(axis = 1)]\n",
    "d2.shape\n",
    "### we will not remove outliers as a lot of information is being lost if we remove ouliers so we tend not to remove them."
   ]
  },
  {
   "cell_type": "markdown",
   "id": "a8c27dcb",
   "metadata": {},
   "source": [
    "## ----------------------------------------------------------------------------------------------------------------------------"
   ]
  },
  {
   "cell_type": "markdown",
   "id": "53e1fece",
   "metadata": {},
   "source": [
    "# Model Building and Pre-processing"
   ]
  },
  {
   "cell_type": "code",
   "execution_count": 11,
   "id": "a2d178c8",
   "metadata": {
    "scrolled": true
   },
   "outputs": [
    {
     "data": {
      "text/html": [
       "<div>\n",
       "<style scoped>\n",
       "    .dataframe tbody tr th:only-of-type {\n",
       "        vertical-align: middle;\n",
       "    }\n",
       "\n",
       "    .dataframe tbody tr th {\n",
       "        vertical-align: top;\n",
       "    }\n",
       "\n",
       "    .dataframe thead th {\n",
       "        text-align: right;\n",
       "    }\n",
       "</style>\n",
       "<table border=\"1\" class=\"dataframe\">\n",
       "  <thead>\n",
       "    <tr style=\"text-align: right;\">\n",
       "      <th></th>\n",
       "      <th>Administrative</th>\n",
       "      <th>Administrative_Duration</th>\n",
       "      <th>Informational</th>\n",
       "      <th>Informational_Duration</th>\n",
       "      <th>ProductRelated</th>\n",
       "      <th>ProductRelated_Duration</th>\n",
       "      <th>BounceRates</th>\n",
       "      <th>ExitRates</th>\n",
       "      <th>PageValues</th>\n",
       "      <th>SpecialDay</th>\n",
       "      <th>Month</th>\n",
       "      <th>OperatingSystems</th>\n",
       "      <th>Browser</th>\n",
       "      <th>Region</th>\n",
       "      <th>TrafficType</th>\n",
       "      <th>VisitorType</th>\n",
       "      <th>Weekend</th>\n",
       "      <th>Revenue</th>\n",
       "    </tr>\n",
       "  </thead>\n",
       "  <tbody>\n",
       "    <tr>\n",
       "      <th>0</th>\n",
       "      <td>0</td>\n",
       "      <td>0.0</td>\n",
       "      <td>0</td>\n",
       "      <td>0.0</td>\n",
       "      <td>1</td>\n",
       "      <td>0.000000</td>\n",
       "      <td>0.200000</td>\n",
       "      <td>0.200000</td>\n",
       "      <td>0.000000</td>\n",
       "      <td>0.0</td>\n",
       "      <td>Feb</td>\n",
       "      <td>1</td>\n",
       "      <td>1</td>\n",
       "      <td>1</td>\n",
       "      <td>1</td>\n",
       "      <td>Returning_Visitor</td>\n",
       "      <td>False</td>\n",
       "      <td>False</td>\n",
       "    </tr>\n",
       "    <tr>\n",
       "      <th>1</th>\n",
       "      <td>0</td>\n",
       "      <td>0.0</td>\n",
       "      <td>0</td>\n",
       "      <td>0.0</td>\n",
       "      <td>2</td>\n",
       "      <td>64.000000</td>\n",
       "      <td>0.000000</td>\n",
       "      <td>0.100000</td>\n",
       "      <td>0.000000</td>\n",
       "      <td>0.0</td>\n",
       "      <td>Feb</td>\n",
       "      <td>2</td>\n",
       "      <td>2</td>\n",
       "      <td>1</td>\n",
       "      <td>2</td>\n",
       "      <td>Returning_Visitor</td>\n",
       "      <td>False</td>\n",
       "      <td>False</td>\n",
       "    </tr>\n",
       "    <tr>\n",
       "      <th>2</th>\n",
       "      <td>0</td>\n",
       "      <td>0.0</td>\n",
       "      <td>0</td>\n",
       "      <td>0.0</td>\n",
       "      <td>1</td>\n",
       "      <td>0.000000</td>\n",
       "      <td>0.200000</td>\n",
       "      <td>0.200000</td>\n",
       "      <td>0.000000</td>\n",
       "      <td>0.0</td>\n",
       "      <td>Feb</td>\n",
       "      <td>4</td>\n",
       "      <td>1</td>\n",
       "      <td>9</td>\n",
       "      <td>3</td>\n",
       "      <td>Returning_Visitor</td>\n",
       "      <td>False</td>\n",
       "      <td>False</td>\n",
       "    </tr>\n",
       "    <tr>\n",
       "      <th>3</th>\n",
       "      <td>0</td>\n",
       "      <td>0.0</td>\n",
       "      <td>0</td>\n",
       "      <td>0.0</td>\n",
       "      <td>2</td>\n",
       "      <td>2.666667</td>\n",
       "      <td>0.050000</td>\n",
       "      <td>0.140000</td>\n",
       "      <td>0.000000</td>\n",
       "      <td>0.0</td>\n",
       "      <td>Feb</td>\n",
       "      <td>3</td>\n",
       "      <td>2</td>\n",
       "      <td>2</td>\n",
       "      <td>4</td>\n",
       "      <td>Returning_Visitor</td>\n",
       "      <td>False</td>\n",
       "      <td>False</td>\n",
       "    </tr>\n",
       "    <tr>\n",
       "      <th>4</th>\n",
       "      <td>0</td>\n",
       "      <td>0.0</td>\n",
       "      <td>0</td>\n",
       "      <td>0.0</td>\n",
       "      <td>10</td>\n",
       "      <td>627.500000</td>\n",
       "      <td>0.020000</td>\n",
       "      <td>0.050000</td>\n",
       "      <td>0.000000</td>\n",
       "      <td>0.0</td>\n",
       "      <td>Feb</td>\n",
       "      <td>3</td>\n",
       "      <td>3</td>\n",
       "      <td>1</td>\n",
       "      <td>4</td>\n",
       "      <td>Returning_Visitor</td>\n",
       "      <td>True</td>\n",
       "      <td>False</td>\n",
       "    </tr>\n",
       "    <tr>\n",
       "      <th>...</th>\n",
       "      <td>...</td>\n",
       "      <td>...</td>\n",
       "      <td>...</td>\n",
       "      <td>...</td>\n",
       "      <td>...</td>\n",
       "      <td>...</td>\n",
       "      <td>...</td>\n",
       "      <td>...</td>\n",
       "      <td>...</td>\n",
       "      <td>...</td>\n",
       "      <td>...</td>\n",
       "      <td>...</td>\n",
       "      <td>...</td>\n",
       "      <td>...</td>\n",
       "      <td>...</td>\n",
       "      <td>...</td>\n",
       "      <td>...</td>\n",
       "      <td>...</td>\n",
       "    </tr>\n",
       "    <tr>\n",
       "      <th>12325</th>\n",
       "      <td>3</td>\n",
       "      <td>145.0</td>\n",
       "      <td>0</td>\n",
       "      <td>0.0</td>\n",
       "      <td>53</td>\n",
       "      <td>1783.791667</td>\n",
       "      <td>0.007143</td>\n",
       "      <td>0.029031</td>\n",
       "      <td>12.241717</td>\n",
       "      <td>0.0</td>\n",
       "      <td>Dec</td>\n",
       "      <td>4</td>\n",
       "      <td>6</td>\n",
       "      <td>1</td>\n",
       "      <td>1</td>\n",
       "      <td>Returning_Visitor</td>\n",
       "      <td>True</td>\n",
       "      <td>False</td>\n",
       "    </tr>\n",
       "    <tr>\n",
       "      <th>12326</th>\n",
       "      <td>0</td>\n",
       "      <td>0.0</td>\n",
       "      <td>0</td>\n",
       "      <td>0.0</td>\n",
       "      <td>5</td>\n",
       "      <td>465.750000</td>\n",
       "      <td>0.000000</td>\n",
       "      <td>0.021333</td>\n",
       "      <td>0.000000</td>\n",
       "      <td>0.0</td>\n",
       "      <td>Nov</td>\n",
       "      <td>3</td>\n",
       "      <td>2</td>\n",
       "      <td>1</td>\n",
       "      <td>8</td>\n",
       "      <td>Returning_Visitor</td>\n",
       "      <td>True</td>\n",
       "      <td>False</td>\n",
       "    </tr>\n",
       "    <tr>\n",
       "      <th>12327</th>\n",
       "      <td>0</td>\n",
       "      <td>0.0</td>\n",
       "      <td>0</td>\n",
       "      <td>0.0</td>\n",
       "      <td>6</td>\n",
       "      <td>184.250000</td>\n",
       "      <td>0.083333</td>\n",
       "      <td>0.086667</td>\n",
       "      <td>0.000000</td>\n",
       "      <td>0.0</td>\n",
       "      <td>Nov</td>\n",
       "      <td>3</td>\n",
       "      <td>2</td>\n",
       "      <td>1</td>\n",
       "      <td>13</td>\n",
       "      <td>Returning_Visitor</td>\n",
       "      <td>True</td>\n",
       "      <td>False</td>\n",
       "    </tr>\n",
       "    <tr>\n",
       "      <th>12328</th>\n",
       "      <td>4</td>\n",
       "      <td>75.0</td>\n",
       "      <td>0</td>\n",
       "      <td>0.0</td>\n",
       "      <td>15</td>\n",
       "      <td>346.000000</td>\n",
       "      <td>0.000000</td>\n",
       "      <td>0.021053</td>\n",
       "      <td>0.000000</td>\n",
       "      <td>0.0</td>\n",
       "      <td>Nov</td>\n",
       "      <td>2</td>\n",
       "      <td>2</td>\n",
       "      <td>3</td>\n",
       "      <td>11</td>\n",
       "      <td>Returning_Visitor</td>\n",
       "      <td>False</td>\n",
       "      <td>False</td>\n",
       "    </tr>\n",
       "    <tr>\n",
       "      <th>12329</th>\n",
       "      <td>0</td>\n",
       "      <td>0.0</td>\n",
       "      <td>0</td>\n",
       "      <td>0.0</td>\n",
       "      <td>3</td>\n",
       "      <td>21.250000</td>\n",
       "      <td>0.000000</td>\n",
       "      <td>0.066667</td>\n",
       "      <td>0.000000</td>\n",
       "      <td>0.0</td>\n",
       "      <td>Nov</td>\n",
       "      <td>3</td>\n",
       "      <td>2</td>\n",
       "      <td>1</td>\n",
       "      <td>2</td>\n",
       "      <td>New_Visitor</td>\n",
       "      <td>True</td>\n",
       "      <td>False</td>\n",
       "    </tr>\n",
       "  </tbody>\n",
       "</table>\n",
       "<p>12330 rows × 18 columns</p>\n",
       "</div>"
      ],
      "text/plain": [
       "       Administrative  Administrative_Duration  Informational  \\\n",
       "0                   0                      0.0              0   \n",
       "1                   0                      0.0              0   \n",
       "2                   0                      0.0              0   \n",
       "3                   0                      0.0              0   \n",
       "4                   0                      0.0              0   \n",
       "...               ...                      ...            ...   \n",
       "12325               3                    145.0              0   \n",
       "12326               0                      0.0              0   \n",
       "12327               0                      0.0              0   \n",
       "12328               4                     75.0              0   \n",
       "12329               0                      0.0              0   \n",
       "\n",
       "       Informational_Duration  ProductRelated  ProductRelated_Duration  \\\n",
       "0                         0.0               1                 0.000000   \n",
       "1                         0.0               2                64.000000   \n",
       "2                         0.0               1                 0.000000   \n",
       "3                         0.0               2                 2.666667   \n",
       "4                         0.0              10               627.500000   \n",
       "...                       ...             ...                      ...   \n",
       "12325                     0.0              53              1783.791667   \n",
       "12326                     0.0               5               465.750000   \n",
       "12327                     0.0               6               184.250000   \n",
       "12328                     0.0              15               346.000000   \n",
       "12329                     0.0               3                21.250000   \n",
       "\n",
       "       BounceRates  ExitRates  PageValues  SpecialDay Month OperatingSystems  \\\n",
       "0         0.200000   0.200000    0.000000         0.0   Feb                1   \n",
       "1         0.000000   0.100000    0.000000         0.0   Feb                2   \n",
       "2         0.200000   0.200000    0.000000         0.0   Feb                4   \n",
       "3         0.050000   0.140000    0.000000         0.0   Feb                3   \n",
       "4         0.020000   0.050000    0.000000         0.0   Feb                3   \n",
       "...            ...        ...         ...         ...   ...              ...   \n",
       "12325     0.007143   0.029031   12.241717         0.0   Dec                4   \n",
       "12326     0.000000   0.021333    0.000000         0.0   Nov                3   \n",
       "12327     0.083333   0.086667    0.000000         0.0   Nov                3   \n",
       "12328     0.000000   0.021053    0.000000         0.0   Nov                2   \n",
       "12329     0.000000   0.066667    0.000000         0.0   Nov                3   \n",
       "\n",
       "      Browser Region TrafficType        VisitorType  Weekend  Revenue  \n",
       "0           1      1           1  Returning_Visitor    False    False  \n",
       "1           2      1           2  Returning_Visitor    False    False  \n",
       "2           1      9           3  Returning_Visitor    False    False  \n",
       "3           2      2           4  Returning_Visitor    False    False  \n",
       "4           3      1           4  Returning_Visitor     True    False  \n",
       "...       ...    ...         ...                ...      ...      ...  \n",
       "12325       6      1           1  Returning_Visitor     True    False  \n",
       "12326       2      1           8  Returning_Visitor     True    False  \n",
       "12327       2      1          13  Returning_Visitor     True    False  \n",
       "12328       2      3          11  Returning_Visitor    False    False  \n",
       "12329       2      1           2        New_Visitor     True    False  \n",
       "\n",
       "[12330 rows x 18 columns]"
      ]
     },
     "execution_count": 11,
     "metadata": {},
     "output_type": "execute_result"
    }
   ],
   "source": [
    "d1"
   ]
  },
  {
   "cell_type": "code",
   "execution_count": 14,
   "id": "65e21b8c",
   "metadata": {},
   "outputs": [],
   "source": [
    "# Converting revenue  as int using LabelEncoder\n",
    "from sklearn.preprocessing import LabelEncoder\n",
    "lb=LabelEncoder()\n",
    "d1['Revenue']=lb.fit_transform(d1['Revenue'])"
   ]
  },
  {
   "cell_type": "code",
   "execution_count": 16,
   "id": "2eba4e70",
   "metadata": {},
   "outputs": [
    {
     "data": {
      "text/plain": [
       "0    10422\n",
       "1     1908\n",
       "Name: Revenue, dtype: int64"
      ]
     },
     "execution_count": 16,
     "metadata": {},
     "output_type": "execute_result"
    }
   ],
   "source": [
    "d1.Revenue.value_counts()"
   ]
  },
  {
   "cell_type": "code",
   "execution_count": 18,
   "id": "9d590776",
   "metadata": {},
   "outputs": [
    {
     "data": {
      "text/plain": [
       "<AxesSubplot:xlabel='Revenue', ylabel='count'>"
      ]
     },
     "execution_count": 18,
     "metadata": {},
     "output_type": "execute_result"
    },
    {
     "data": {
      "image/png": "[encoded data removed]",
      "text/plain": [
       "<Figure size 1080x576 with 1 Axes>"
      ]
     },
     "metadata": {
      "needs_background": "light"
     },
     "output_type": "display_data"
    }
   ],
   "source": [
    "sns.countplot(d1.Revenue)\n",
    "# here data is baised so we use smote to generate synthetic data for the model so it will not be baised"
   ]
  },
  {
   "cell_type": "code",
   "execution_count": 31,
   "id": "3fce2c0c",
   "metadata": {},
   "outputs": [],
   "source": [
    "## splitting the dependent and independent variables\n",
    "d1['Revenue']= d1['Revenue'].astype('int')\n",
    "target = d1.Revenue\n",
    "feature = d1.drop('Revenue', axis = 1)"
   ]
  },
  {
   "cell_type": "code",
   "execution_count": 32,
   "id": "a5108db1",
   "metadata": {
    "scrolled": true
   },
   "outputs": [
    {
     "data": {
      "text/plain": [
       "0    10422\n",
       "1     1908\n",
       "Name: Revenue, dtype: int64"
      ]
     },
     "execution_count": 32,
     "metadata": {},
     "output_type": "execute_result"
    }
   ],
   "source": [
    "target.value_counts()"
   ]
  },
  {
   "cell_type": "code",
   "execution_count": 33,
   "id": "a2dd060f",
   "metadata": {},
   "outputs": [],
   "source": [
    "## filtering numerical and categorical variables\n",
    "num = feature.select_dtypes(include = 'number')\n",
    "cat = feature.select_dtypes(include = 'object')"
   ]
  },
  {
   "cell_type": "code",
   "execution_count": 34,
   "id": "11fb1d98",
   "metadata": {},
   "outputs": [],
   "source": [
    "## scaling the numerical variables\n",
    "sc = StandardScaler()\n",
    "scaled = sc.fit_transform(num)\n",
    "scaled = pd.DataFrame(data = scaled, columns = num.columns)"
   ]
  },
  {
   "cell_type": "code",
   "execution_count": 35,
   "id": "217a0961",
   "metadata": {},
   "outputs": [],
   "source": [
    "## encoding the categorical variables\n",
    "encoded = pd.get_dummies(data = cat, drop_first = True)"
   ]
  },
  {
   "cell_type": "code",
   "execution_count": 36,
   "id": "22e03bee",
   "metadata": {},
   "outputs": [],
   "source": [
    "scaled.reset_index(drop = True, inplace = True)\n",
    "encoded.reset_index(drop = True, inplace = True)"
   ]
  },
  {
   "cell_type": "code",
   "execution_count": 38,
   "id": "b6d2962a",
   "metadata": {},
   "outputs": [
    {
     "data": {
      "text/html": [
       "<div>\n",
       "<style scoped>\n",
       "    .dataframe tbody tr th:only-of-type {\n",
       "        vertical-align: middle;\n",
       "    }\n",
       "\n",
       "    .dataframe tbody tr th {\n",
       "        vertical-align: top;\n",
       "    }\n",
       "\n",
       "    .dataframe thead th {\n",
       "        text-align: right;\n",
       "    }\n",
       "</style>\n",
       "<table border=\"1\" class=\"dataframe\">\n",
       "  <thead>\n",
       "    <tr style=\"text-align: right;\">\n",
       "      <th></th>\n",
       "      <th>Administrative</th>\n",
       "      <th>Administrative_Duration</th>\n",
       "      <th>Informational</th>\n",
       "      <th>Informational_Duration</th>\n",
       "      <th>ProductRelated</th>\n",
       "      <th>ProductRelated_Duration</th>\n",
       "      <th>BounceRates</th>\n",
       "      <th>ExitRates</th>\n",
       "      <th>PageValues</th>\n",
       "      <th>SpecialDay</th>\n",
       "      <th>...</th>\n",
       "      <th>TrafficType_13</th>\n",
       "      <th>TrafficType_14</th>\n",
       "      <th>TrafficType_15</th>\n",
       "      <th>TrafficType_16</th>\n",
       "      <th>TrafficType_17</th>\n",
       "      <th>TrafficType_18</th>\n",
       "      <th>TrafficType_19</th>\n",
       "      <th>TrafficType_20</th>\n",
       "      <th>VisitorType_Other</th>\n",
       "      <th>VisitorType_Returning_Visitor</th>\n",
       "    </tr>\n",
       "  </thead>\n",
       "  <tbody>\n",
       "    <tr>\n",
       "      <th>0</th>\n",
       "      <td>-0.696993</td>\n",
       "      <td>-0.457191</td>\n",
       "      <td>-0.396478</td>\n",
       "      <td>-0.244931</td>\n",
       "      <td>-0.691003</td>\n",
       "      <td>-0.624348</td>\n",
       "      <td>3.667189</td>\n",
       "      <td>3.229316</td>\n",
       "      <td>-0.317178</td>\n",
       "      <td>-0.308821</td>\n",
       "      <td>...</td>\n",
       "      <td>0</td>\n",
       "      <td>0</td>\n",
       "      <td>0</td>\n",
       "      <td>0</td>\n",
       "      <td>0</td>\n",
       "      <td>0</td>\n",
       "      <td>0</td>\n",
       "      <td>0</td>\n",
       "      <td>0</td>\n",
       "      <td>1</td>\n",
       "    </tr>\n",
       "    <tr>\n",
       "      <th>1</th>\n",
       "      <td>-0.696993</td>\n",
       "      <td>-0.457191</td>\n",
       "      <td>-0.396478</td>\n",
       "      <td>-0.244931</td>\n",
       "      <td>-0.668518</td>\n",
       "      <td>-0.590903</td>\n",
       "      <td>-0.457683</td>\n",
       "      <td>1.171473</td>\n",
       "      <td>-0.317178</td>\n",
       "      <td>-0.308821</td>\n",
       "      <td>...</td>\n",
       "      <td>0</td>\n",
       "      <td>0</td>\n",
       "      <td>0</td>\n",
       "      <td>0</td>\n",
       "      <td>0</td>\n",
       "      <td>0</td>\n",
       "      <td>0</td>\n",
       "      <td>0</td>\n",
       "      <td>0</td>\n",
       "      <td>1</td>\n",
       "    </tr>\n",
       "    <tr>\n",
       "      <th>2</th>\n",
       "      <td>-0.696993</td>\n",
       "      <td>-0.457191</td>\n",
       "      <td>-0.396478</td>\n",
       "      <td>-0.244931</td>\n",
       "      <td>-0.691003</td>\n",
       "      <td>-0.624348</td>\n",
       "      <td>3.667189</td>\n",
       "      <td>3.229316</td>\n",
       "      <td>-0.317178</td>\n",
       "      <td>-0.308821</td>\n",
       "      <td>...</td>\n",
       "      <td>0</td>\n",
       "      <td>0</td>\n",
       "      <td>0</td>\n",
       "      <td>0</td>\n",
       "      <td>0</td>\n",
       "      <td>0</td>\n",
       "      <td>0</td>\n",
       "      <td>0</td>\n",
       "      <td>0</td>\n",
       "      <td>1</td>\n",
       "    </tr>\n",
       "    <tr>\n",
       "      <th>3</th>\n",
       "      <td>-0.696993</td>\n",
       "      <td>-0.457191</td>\n",
       "      <td>-0.396478</td>\n",
       "      <td>-0.244931</td>\n",
       "      <td>-0.668518</td>\n",
       "      <td>-0.622954</td>\n",
       "      <td>0.573535</td>\n",
       "      <td>1.994610</td>\n",
       "      <td>-0.317178</td>\n",
       "      <td>-0.308821</td>\n",
       "      <td>...</td>\n",
       "      <td>0</td>\n",
       "      <td>0</td>\n",
       "      <td>0</td>\n",
       "      <td>0</td>\n",
       "      <td>0</td>\n",
       "      <td>0</td>\n",
       "      <td>0</td>\n",
       "      <td>0</td>\n",
       "      <td>0</td>\n",
       "      <td>1</td>\n",
       "    </tr>\n",
       "    <tr>\n",
       "      <th>4</th>\n",
       "      <td>-0.696993</td>\n",
       "      <td>-0.457191</td>\n",
       "      <td>-0.396478</td>\n",
       "      <td>-0.244931</td>\n",
       "      <td>-0.488636</td>\n",
       "      <td>-0.296430</td>\n",
       "      <td>-0.045196</td>\n",
       "      <td>0.142551</td>\n",
       "      <td>-0.317178</td>\n",
       "      <td>-0.308821</td>\n",
       "      <td>...</td>\n",
       "      <td>0</td>\n",
       "      <td>0</td>\n",
       "      <td>0</td>\n",
       "      <td>0</td>\n",
       "      <td>0</td>\n",
       "      <td>0</td>\n",
       "      <td>0</td>\n",
       "      <td>0</td>\n",
       "      <td>0</td>\n",
       "      <td>1</td>\n",
       "    </tr>\n",
       "    <tr>\n",
       "      <th>...</th>\n",
       "      <td>...</td>\n",
       "      <td>...</td>\n",
       "      <td>...</td>\n",
       "      <td>...</td>\n",
       "      <td>...</td>\n",
       "      <td>...</td>\n",
       "      <td>...</td>\n",
       "      <td>...</td>\n",
       "      <td>...</td>\n",
       "      <td>...</td>\n",
       "      <td>...</td>\n",
       "      <td>...</td>\n",
       "      <td>...</td>\n",
       "      <td>...</td>\n",
       "      <td>...</td>\n",
       "      <td>...</td>\n",
       "      <td>...</td>\n",
       "      <td>...</td>\n",
       "      <td>...</td>\n",
       "      <td>...</td>\n",
       "      <td>...</td>\n",
       "    </tr>\n",
       "    <tr>\n",
       "      <th>12325</th>\n",
       "      <td>0.206173</td>\n",
       "      <td>0.363075</td>\n",
       "      <td>-0.396478</td>\n",
       "      <td>-0.244931</td>\n",
       "      <td>0.478227</td>\n",
       "      <td>0.307822</td>\n",
       "      <td>-0.310366</td>\n",
       "      <td>-0.288966</td>\n",
       "      <td>0.342125</td>\n",
       "      <td>-0.308821</td>\n",
       "      <td>...</td>\n",
       "      <td>0</td>\n",
       "      <td>0</td>\n",
       "      <td>0</td>\n",
       "      <td>0</td>\n",
       "      <td>0</td>\n",
       "      <td>0</td>\n",
       "      <td>0</td>\n",
       "      <td>0</td>\n",
       "      <td>0</td>\n",
       "      <td>1</td>\n",
       "    </tr>\n",
       "    <tr>\n",
       "      <th>12326</th>\n",
       "      <td>-0.696993</td>\n",
       "      <td>-0.457191</td>\n",
       "      <td>-0.396478</td>\n",
       "      <td>-0.244931</td>\n",
       "      <td>-0.601062</td>\n",
       "      <td>-0.380957</td>\n",
       "      <td>-0.457683</td>\n",
       "      <td>-0.447364</td>\n",
       "      <td>-0.317178</td>\n",
       "      <td>-0.308821</td>\n",
       "      <td>...</td>\n",
       "      <td>0</td>\n",
       "      <td>0</td>\n",
       "      <td>0</td>\n",
       "      <td>0</td>\n",
       "      <td>0</td>\n",
       "      <td>0</td>\n",
       "      <td>0</td>\n",
       "      <td>0</td>\n",
       "      <td>0</td>\n",
       "      <td>1</td>\n",
       "    </tr>\n",
       "    <tr>\n",
       "      <th>12327</th>\n",
       "      <td>-0.696993</td>\n",
       "      <td>-0.457191</td>\n",
       "      <td>-0.396478</td>\n",
       "      <td>-0.244931</td>\n",
       "      <td>-0.578577</td>\n",
       "      <td>-0.528063</td>\n",
       "      <td>1.261014</td>\n",
       "      <td>0.897093</td>\n",
       "      <td>-0.317178</td>\n",
       "      <td>-0.308821</td>\n",
       "      <td>...</td>\n",
       "      <td>1</td>\n",
       "      <td>0</td>\n",
       "      <td>0</td>\n",
       "      <td>0</td>\n",
       "      <td>0</td>\n",
       "      <td>0</td>\n",
       "      <td>0</td>\n",
       "      <td>0</td>\n",
       "      <td>0</td>\n",
       "      <td>1</td>\n",
       "    </tr>\n",
       "    <tr>\n",
       "      <th>12328</th>\n",
       "      <td>0.507228</td>\n",
       "      <td>-0.032916</td>\n",
       "      <td>-0.396478</td>\n",
       "      <td>-0.244931</td>\n",
       "      <td>-0.376210</td>\n",
       "      <td>-0.443536</td>\n",
       "      <td>-0.457683</td>\n",
       "      <td>-0.453140</td>\n",
       "      <td>-0.317178</td>\n",
       "      <td>-0.308821</td>\n",
       "      <td>...</td>\n",
       "      <td>0</td>\n",
       "      <td>0</td>\n",
       "      <td>0</td>\n",
       "      <td>0</td>\n",
       "      <td>0</td>\n",
       "      <td>0</td>\n",
       "      <td>0</td>\n",
       "      <td>0</td>\n",
       "      <td>0</td>\n",
       "      <td>1</td>\n",
       "    </tr>\n",
       "    <tr>\n",
       "      <th>12329</th>\n",
       "      <td>-0.696993</td>\n",
       "      <td>-0.457191</td>\n",
       "      <td>-0.396478</td>\n",
       "      <td>-0.244931</td>\n",
       "      <td>-0.646033</td>\n",
       "      <td>-0.613243</td>\n",
       "      <td>-0.457683</td>\n",
       "      <td>0.485525</td>\n",
       "      <td>-0.317178</td>\n",
       "      <td>-0.308821</td>\n",
       "      <td>...</td>\n",
       "      <td>0</td>\n",
       "      <td>0</td>\n",
       "      <td>0</td>\n",
       "      <td>0</td>\n",
       "      <td>0</td>\n",
       "      <td>0</td>\n",
       "      <td>0</td>\n",
       "      <td>0</td>\n",
       "      <td>0</td>\n",
       "      <td>0</td>\n",
       "    </tr>\n",
       "  </tbody>\n",
       "</table>\n",
       "<p>12330 rows × 67 columns</p>\n",
       "</div>"
      ],
      "text/plain": [
       "       Administrative  Administrative_Duration  Informational  \\\n",
       "0           -0.696993                -0.457191      -0.396478   \n",
       "1           -0.696993                -0.457191      -0.396478   \n",
       "2           -0.696993                -0.457191      -0.396478   \n",
       "3           -0.696993                -0.457191      -0.396478   \n",
       "4           -0.696993                -0.457191      -0.396478   \n",
       "...               ...                      ...            ...   \n",
       "12325        0.206173                 0.363075      -0.396478   \n",
       "12326       -0.696993                -0.457191      -0.396478   \n",
       "12327       -0.696993                -0.457191      -0.396478   \n",
       "12328        0.507228                -0.032916      -0.396478   \n",
       "12329       -0.696993                -0.457191      -0.396478   \n",
       "\n",
       "       Informational_Duration  ProductRelated  ProductRelated_Duration  \\\n",
       "0                   -0.244931       -0.691003                -0.624348   \n",
       "1                   -0.244931       -0.668518                -0.590903   \n",
       "2                   -0.244931       -0.691003                -0.624348   \n",
       "3                   -0.244931       -0.668518                -0.622954   \n",
       "4                   -0.244931       -0.488636                -0.296430   \n",
       "...                       ...             ...                      ...   \n",
       "12325               -0.244931        0.478227                 0.307822   \n",
       "12326               -0.244931       -0.601062                -0.380957   \n",
       "12327               -0.244931       -0.578577                -0.528063   \n",
       "12328               -0.244931       -0.376210                -0.443536   \n",
       "12329               -0.244931       -0.646033                -0.613243   \n",
       "\n",
       "       BounceRates  ExitRates  PageValues  SpecialDay  ...  TrafficType_13  \\\n",
       "0         3.667189   3.229316   -0.317178   -0.308821  ...               0   \n",
       "1        -0.457683   1.171473   -0.317178   -0.308821  ...               0   \n",
       "2         3.667189   3.229316   -0.317178   -0.308821  ...               0   \n",
       "3         0.573535   1.994610   -0.317178   -0.308821  ...               0   \n",
       "4        -0.045196   0.142551   -0.317178   -0.308821  ...               0   \n",
       "...            ...        ...         ...         ...  ...             ...   \n",
       "12325    -0.310366  -0.288966    0.342125   -0.308821  ...               0   \n",
       "12326    -0.457683  -0.447364   -0.317178   -0.308821  ...               0   \n",
       "12327     1.261014   0.897093   -0.317178   -0.308821  ...               1   \n",
       "12328    -0.457683  -0.453140   -0.317178   -0.308821  ...               0   \n",
       "12329    -0.457683   0.485525   -0.317178   -0.308821  ...               0   \n",
       "\n",
       "       TrafficType_14  TrafficType_15  TrafficType_16  TrafficType_17  \\\n",
       "0                   0               0               0               0   \n",
       "1                   0               0               0               0   \n",
       "2                   0               0               0               0   \n",
       "3                   0               0               0               0   \n",
       "4                   0               0               0               0   \n",
       "...               ...             ...             ...             ...   \n",
       "12325               0               0               0               0   \n",
       "12326               0               0               0               0   \n",
       "12327               0               0               0               0   \n",
       "12328               0               0               0               0   \n",
       "12329               0               0               0               0   \n",
       "\n",
       "       TrafficType_18  TrafficType_19  TrafficType_20  VisitorType_Other  \\\n",
       "0                   0               0               0                  0   \n",
       "1                   0               0               0                  0   \n",
       "2                   0               0               0                  0   \n",
       "3                   0               0               0                  0   \n",
       "4                   0               0               0                  0   \n",
       "...               ...             ...             ...                ...   \n",
       "12325               0               0               0                  0   \n",
       "12326               0               0               0                  0   \n",
       "12327               0               0               0                  0   \n",
       "12328               0               0               0                  0   \n",
       "12329               0               0               0                  0   \n",
       "\n",
       "       VisitorType_Returning_Visitor  \n",
       "0                                  1  \n",
       "1                                  1  \n",
       "2                                  1  \n",
       "3                                  1  \n",
       "4                                  1  \n",
       "...                              ...  \n",
       "12325                              1  \n",
       "12326                              1  \n",
       "12327                              1  \n",
       "12328                              1  \n",
       "12329                              0  \n",
       "\n",
       "[12330 rows x 67 columns]"
      ]
     },
     "execution_count": 38,
     "metadata": {},
     "output_type": "execute_result"
    }
   ],
   "source": [
    "## Concatenating numerical and dummy encoded categorical variables.\n",
    "X = pd.concat([scaled,encoded],axis = 1)\n",
    "X"
   ]
  },
  {
   "cell_type": "markdown",
   "id": "fcf4898d",
   "metadata": {},
   "source": [
    "### Train-test split\n",
    "Before applying various classification techniques to predict the admission status of the student, let us split the dataset in train and test set."
   ]
  },
  {
   "cell_type": "code",
   "execution_count": 44,
   "id": "c0637398",
   "metadata": {},
   "outputs": [
    {
     "data": {
      "text/plain": [
       "(12330,)"
      ]
     },
     "execution_count": 44,
     "metadata": {},
     "output_type": "execute_result"
    }
   ],
   "source": [
    "target.shape"
   ]
  },
  {
   "cell_type": "code",
   "execution_count": 49,
   "id": "d310df1b",
   "metadata": {},
   "outputs": [],
   "source": [
    "xtrain,xtest,ytrain,ytest = train_test_split(X,target, test_size = 0.3,random_state = 0)"
   ]
  },
  {
   "cell_type": "code",
   "execution_count": 50,
   "id": "eb2f7c4b",
   "metadata": {
    "scrolled": true
   },
   "outputs": [
    {
     "data": {
      "text/html": [
       "<div>\n",
       "<style scoped>\n",
       "    .dataframe tbody tr th:only-of-type {\n",
       "        vertical-align: middle;\n",
       "    }\n",
       "\n",
       "    .dataframe tbody tr th {\n",
       "        vertical-align: top;\n",
       "    }\n",
       "\n",
       "    .dataframe thead th {\n",
       "        text-align: right;\n",
       "    }\n",
       "</style>\n",
       "<table border=\"1\" class=\"dataframe\">\n",
       "  <thead>\n",
       "    <tr style=\"text-align: right;\">\n",
       "      <th></th>\n",
       "      <th>Administrative</th>\n",
       "      <th>Administrative_Duration</th>\n",
       "      <th>Informational</th>\n",
       "      <th>Informational_Duration</th>\n",
       "      <th>ProductRelated</th>\n",
       "      <th>ProductRelated_Duration</th>\n",
       "      <th>BounceRates</th>\n",
       "      <th>ExitRates</th>\n",
       "      <th>PageValues</th>\n",
       "      <th>SpecialDay</th>\n",
       "      <th>...</th>\n",
       "      <th>TrafficType_13</th>\n",
       "      <th>TrafficType_14</th>\n",
       "      <th>TrafficType_15</th>\n",
       "      <th>TrafficType_16</th>\n",
       "      <th>TrafficType_17</th>\n",
       "      <th>TrafficType_18</th>\n",
       "      <th>TrafficType_19</th>\n",
       "      <th>TrafficType_20</th>\n",
       "      <th>VisitorType_Other</th>\n",
       "      <th>VisitorType_Returning_Visitor</th>\n",
       "    </tr>\n",
       "  </thead>\n",
       "  <tbody>\n",
       "    <tr>\n",
       "      <th>11332</th>\n",
       "      <td>-0.395938</td>\n",
       "      <td>-0.416885</td>\n",
       "      <td>4.327541</td>\n",
       "      <td>7.172307</td>\n",
       "      <td>0.927931</td>\n",
       "      <td>1.249186</td>\n",
       "      <td>-0.289077</td>\n",
       "      <td>-0.383195</td>\n",
       "      <td>-0.317178</td>\n",
       "      <td>-0.308821</td>\n",
       "      <td>...</td>\n",
       "      <td>0</td>\n",
       "      <td>0</td>\n",
       "      <td>0</td>\n",
       "      <td>0</td>\n",
       "      <td>0</td>\n",
       "      <td>0</td>\n",
       "      <td>0</td>\n",
       "      <td>0</td>\n",
       "      <td>0</td>\n",
       "      <td>1</td>\n",
       "    </tr>\n",
       "    <tr>\n",
       "      <th>12071</th>\n",
       "      <td>-0.696993</td>\n",
       "      <td>-0.457191</td>\n",
       "      <td>-0.396478</td>\n",
       "      <td>-0.244931</td>\n",
       "      <td>-0.443666</td>\n",
       "      <td>-0.542303</td>\n",
       "      <td>-0.285813</td>\n",
       "      <td>-0.200423</td>\n",
       "      <td>-0.317178</td>\n",
       "      <td>-0.308821</td>\n",
       "      <td>...</td>\n",
       "      <td>0</td>\n",
       "      <td>0</td>\n",
       "      <td>0</td>\n",
       "      <td>0</td>\n",
       "      <td>0</td>\n",
       "      <td>0</td>\n",
       "      <td>0</td>\n",
       "      <td>0</td>\n",
       "      <td>0</td>\n",
       "      <td>1</td>\n",
       "    </tr>\n",
       "    <tr>\n",
       "      <th>10023</th>\n",
       "      <td>-0.696993</td>\n",
       "      <td>-0.457191</td>\n",
       "      <td>-0.396478</td>\n",
       "      <td>-0.244931</td>\n",
       "      <td>0.118464</td>\n",
       "      <td>-0.290812</td>\n",
       "      <td>-0.343103</td>\n",
       "      <td>-0.543397</td>\n",
       "      <td>-0.317178</td>\n",
       "      <td>-0.308821</td>\n",
       "      <td>...</td>\n",
       "      <td>0</td>\n",
       "      <td>0</td>\n",
       "      <td>0</td>\n",
       "      <td>0</td>\n",
       "      <td>0</td>\n",
       "      <td>0</td>\n",
       "      <td>0</td>\n",
       "      <td>0</td>\n",
       "      <td>0</td>\n",
       "      <td>1</td>\n",
       "    </tr>\n",
       "    <tr>\n",
       "      <th>6771</th>\n",
       "      <td>2.012504</td>\n",
       "      <td>2.087424</td>\n",
       "      <td>-0.396478</td>\n",
       "      <td>-0.244931</td>\n",
       "      <td>-0.331240</td>\n",
       "      <td>-0.519336</td>\n",
       "      <td>-0.457683</td>\n",
       "      <td>-0.380076</td>\n",
       "      <td>-0.317178</td>\n",
       "      <td>-0.308821</td>\n",
       "      <td>...</td>\n",
       "      <td>0</td>\n",
       "      <td>0</td>\n",
       "      <td>0</td>\n",
       "      <td>0</td>\n",
       "      <td>0</td>\n",
       "      <td>0</td>\n",
       "      <td>0</td>\n",
       "      <td>0</td>\n",
       "      <td>0</td>\n",
       "      <td>1</td>\n",
       "    </tr>\n",
       "    <tr>\n",
       "      <th>4283</th>\n",
       "      <td>-0.696993</td>\n",
       "      <td>-0.457191</td>\n",
       "      <td>0.390859</td>\n",
       "      <td>-0.202300</td>\n",
       "      <td>-0.421181</td>\n",
       "      <td>0.829855</td>\n",
       "      <td>-0.457683</td>\n",
       "      <td>-0.780840</td>\n",
       "      <td>-0.317178</td>\n",
       "      <td>1.702146</td>\n",
       "      <td>...</td>\n",
       "      <td>0</td>\n",
       "      <td>0</td>\n",
       "      <td>0</td>\n",
       "      <td>0</td>\n",
       "      <td>0</td>\n",
       "      <td>0</td>\n",
       "      <td>0</td>\n",
       "      <td>0</td>\n",
       "      <td>0</td>\n",
       "      <td>0</td>\n",
       "    </tr>\n",
       "    <tr>\n",
       "      <th>...</th>\n",
       "      <td>...</td>\n",
       "      <td>...</td>\n",
       "      <td>...</td>\n",
       "      <td>...</td>\n",
       "      <td>...</td>\n",
       "      <td>...</td>\n",
       "      <td>...</td>\n",
       "      <td>...</td>\n",
       "      <td>...</td>\n",
       "      <td>...</td>\n",
       "      <td>...</td>\n",
       "      <td>...</td>\n",
       "      <td>...</td>\n",
       "      <td>...</td>\n",
       "      <td>...</td>\n",
       "      <td>...</td>\n",
       "      <td>...</td>\n",
       "      <td>...</td>\n",
       "      <td>...</td>\n",
       "      <td>...</td>\n",
       "      <td>...</td>\n",
       "    </tr>\n",
       "    <tr>\n",
       "      <th>4859</th>\n",
       "      <td>-0.395938</td>\n",
       "      <td>-0.434563</td>\n",
       "      <td>-0.396478</td>\n",
       "      <td>-0.244931</td>\n",
       "      <td>0.410772</td>\n",
       "      <td>-0.336973</td>\n",
       "      <td>-0.457683</td>\n",
       "      <td>-0.718383</td>\n",
       "      <td>-0.317178</td>\n",
       "      <td>-0.308821</td>\n",
       "      <td>...</td>\n",
       "      <td>0</td>\n",
       "      <td>0</td>\n",
       "      <td>0</td>\n",
       "      <td>0</td>\n",
       "      <td>0</td>\n",
       "      <td>0</td>\n",
       "      <td>0</td>\n",
       "      <td>0</td>\n",
       "      <td>0</td>\n",
       "      <td>1</td>\n",
       "    </tr>\n",
       "    <tr>\n",
       "      <th>3264</th>\n",
       "      <td>-0.696993</td>\n",
       "      <td>-0.457191</td>\n",
       "      <td>-0.396478</td>\n",
       "      <td>-0.244931</td>\n",
       "      <td>-0.601062</td>\n",
       "      <td>-0.263246</td>\n",
       "      <td>-0.457683</td>\n",
       "      <td>0.759904</td>\n",
       "      <td>-0.317178</td>\n",
       "      <td>2.707630</td>\n",
       "      <td>...</td>\n",
       "      <td>0</td>\n",
       "      <td>0</td>\n",
       "      <td>0</td>\n",
       "      <td>0</td>\n",
       "      <td>0</td>\n",
       "      <td>0</td>\n",
       "      <td>0</td>\n",
       "      <td>0</td>\n",
       "      <td>0</td>\n",
       "      <td>1</td>\n",
       "    </tr>\n",
       "    <tr>\n",
       "      <th>9845</th>\n",
       "      <td>3.216725</td>\n",
       "      <td>1.420840</td>\n",
       "      <td>3.540205</td>\n",
       "      <td>0.664525</td>\n",
       "      <td>3.828522</td>\n",
       "      <td>3.670027</td>\n",
       "      <td>-0.418399</td>\n",
       "      <td>-0.605089</td>\n",
       "      <td>-0.120507</td>\n",
       "      <td>-0.308821</td>\n",
       "      <td>...</td>\n",
       "      <td>0</td>\n",
       "      <td>0</td>\n",
       "      <td>0</td>\n",
       "      <td>0</td>\n",
       "      <td>0</td>\n",
       "      <td>0</td>\n",
       "      <td>0</td>\n",
       "      <td>0</td>\n",
       "      <td>0</td>\n",
       "      <td>1</td>\n",
       "    </tr>\n",
       "    <tr>\n",
       "      <th>10799</th>\n",
       "      <td>-0.696993</td>\n",
       "      <td>-0.457191</td>\n",
       "      <td>-0.396478</td>\n",
       "      <td>-0.244931</td>\n",
       "      <td>-0.196329</td>\n",
       "      <td>-0.447411</td>\n",
       "      <td>-0.457683</td>\n",
       "      <td>-0.707428</td>\n",
       "      <td>-0.317178</td>\n",
       "      <td>-0.308821</td>\n",
       "      <td>...</td>\n",
       "      <td>0</td>\n",
       "      <td>0</td>\n",
       "      <td>0</td>\n",
       "      <td>0</td>\n",
       "      <td>0</td>\n",
       "      <td>0</td>\n",
       "      <td>0</td>\n",
       "      <td>0</td>\n",
       "      <td>0</td>\n",
       "      <td>1</td>\n",
       "    </tr>\n",
       "    <tr>\n",
       "      <th>2732</th>\n",
       "      <td>0.206173</td>\n",
       "      <td>-0.199798</td>\n",
       "      <td>-0.396478</td>\n",
       "      <td>-0.244931</td>\n",
       "      <td>0.253375</td>\n",
       "      <td>0.284023</td>\n",
       "      <td>-0.326735</td>\n",
       "      <td>-0.158426</td>\n",
       "      <td>-0.317178</td>\n",
       "      <td>-0.308821</td>\n",
       "      <td>...</td>\n",
       "      <td>0</td>\n",
       "      <td>0</td>\n",
       "      <td>0</td>\n",
       "      <td>0</td>\n",
       "      <td>0</td>\n",
       "      <td>0</td>\n",
       "      <td>0</td>\n",
       "      <td>0</td>\n",
       "      <td>0</td>\n",
       "      <td>1</td>\n",
       "    </tr>\n",
       "  </tbody>\n",
       "</table>\n",
       "<p>8631 rows × 67 columns</p>\n",
       "</div>"
      ],
      "text/plain": [
       "       Administrative  Administrative_Duration  Informational  \\\n",
       "11332       -0.395938                -0.416885       4.327541   \n",
       "12071       -0.696993                -0.457191      -0.396478   \n",
       "10023       -0.696993                -0.457191      -0.396478   \n",
       "6771         2.012504                 2.087424      -0.396478   \n",
       "4283        -0.696993                -0.457191       0.390859   \n",
       "...               ...                      ...            ...   \n",
       "4859        -0.395938                -0.434563      -0.396478   \n",
       "3264        -0.696993                -0.457191      -0.396478   \n",
       "9845         3.216725                 1.420840       3.540205   \n",
       "10799       -0.696993                -0.457191      -0.396478   \n",
       "2732         0.206173                -0.199798      -0.396478   \n",
       "\n",
       "       Informational_Duration  ProductRelated  ProductRelated_Duration  \\\n",
       "11332                7.172307        0.927931                 1.249186   \n",
       "12071               -0.244931       -0.443666                -0.542303   \n",
       "10023               -0.244931        0.118464                -0.290812   \n",
       "6771                -0.244931       -0.331240                -0.519336   \n",
       "4283                -0.202300       -0.421181                 0.829855   \n",
       "...                       ...             ...                      ...   \n",
       "4859                -0.244931        0.410772                -0.336973   \n",
       "3264                -0.244931       -0.601062                -0.263246   \n",
       "9845                 0.664525        3.828522                 3.670027   \n",
       "10799               -0.244931       -0.196329                -0.447411   \n",
       "2732                -0.244931        0.253375                 0.284023   \n",
       "\n",
       "       BounceRates  ExitRates  PageValues  SpecialDay  ...  TrafficType_13  \\\n",
       "11332    -0.289077  -0.383195   -0.317178   -0.308821  ...               0   \n",
       "12071    -0.285813  -0.200423   -0.317178   -0.308821  ...               0   \n",
       "10023    -0.343103  -0.543397   -0.317178   -0.308821  ...               0   \n",
       "6771     -0.457683  -0.380076   -0.317178   -0.308821  ...               0   \n",
       "4283     -0.457683  -0.780840   -0.317178    1.702146  ...               0   \n",
       "...            ...        ...         ...         ...  ...             ...   \n",
       "4859     -0.457683  -0.718383   -0.317178   -0.308821  ...               0   \n",
       "3264     -0.457683   0.759904   -0.317178    2.707630  ...               0   \n",
       "9845     -0.418399  -0.605089   -0.120507   -0.308821  ...               0   \n",
       "10799    -0.457683  -0.707428   -0.317178   -0.308821  ...               0   \n",
       "2732     -0.326735  -0.158426   -0.317178   -0.308821  ...               0   \n",
       "\n",
       "       TrafficType_14  TrafficType_15  TrafficType_16  TrafficType_17  \\\n",
       "11332               0               0               0               0   \n",
       "12071               0               0               0               0   \n",
       "10023               0               0               0               0   \n",
       "6771                0               0               0               0   \n",
       "4283                0               0               0               0   \n",
       "...               ...             ...             ...             ...   \n",
       "4859                0               0               0               0   \n",
       "3264                0               0               0               0   \n",
       "9845                0               0               0               0   \n",
       "10799               0               0               0               0   \n",
       "2732                0               0               0               0   \n",
       "\n",
       "       TrafficType_18  TrafficType_19  TrafficType_20  VisitorType_Other  \\\n",
       "11332               0               0               0                  0   \n",
       "12071               0               0               0                  0   \n",
       "10023               0               0               0                  0   \n",
       "6771                0               0               0                  0   \n",
       "4283                0               0               0                  0   \n",
       "...               ...             ...             ...                ...   \n",
       "4859                0               0               0                  0   \n",
       "3264                0               0               0                  0   \n",
       "9845                0               0               0                  0   \n",
       "10799               0               0               0                  0   \n",
       "2732                0               0               0                  0   \n",
       "\n",
       "       VisitorType_Returning_Visitor  \n",
       "11332                              1  \n",
       "12071                              1  \n",
       "10023                              1  \n",
       "6771                               1  \n",
       "4283                               0  \n",
       "...                              ...  \n",
       "4859                               1  \n",
       "3264                               1  \n",
       "9845                               1  \n",
       "10799                              1  \n",
       "2732                               1  \n",
       "\n",
       "[8631 rows x 67 columns]"
      ]
     },
     "execution_count": 50,
     "metadata": {},
     "output_type": "execute_result"
    }
   ],
   "source": [
    "xtrain"
   ]
  },
  {
   "cell_type": "code",
   "execution_count": 55,
   "id": "03c6fd9a",
   "metadata": {},
   "outputs": [
    {
     "data": {
      "text/plain": [
       "(3699, 67)"
      ]
     },
     "execution_count": 55,
     "metadata": {},
     "output_type": "execute_result"
    }
   ],
   "source": [
    "xtest.shape"
   ]
  },
  {
   "cell_type": "code",
   "execution_count": 51,
   "id": "5d9460b8",
   "metadata": {
    "scrolled": true
   },
   "outputs": [
    {
     "name": "stdout",
     "output_type": "stream",
     "text": [
      "Before OverSampling, counts of label '1': 1286\n",
      "Before OverSampling, counts of label '0': 7345 \n",
      "\n",
      "After OverSampling, the shape of train_X: (14690, 67)\n",
      "After OverSampling, the shape of train_y: (14690,) \n",
      "\n",
      "After OverSampling, counts of label '1': 7345\n",
      "After OverSampling, counts of label '0': 7345\n"
     ]
    }
   ],
   "source": [
    "print(\"Before OverSampling, counts of label '1': {}\".format(sum(ytrain == 1)))\n",
    "print(\"Before OverSampling, counts of label '0': {} \\n\".format(sum(ytrain == 0)))\n",
    "  \n",
    "from imblearn.over_sampling import SMOTE\n",
    "sm = SMOTE(random_state = 10)\n",
    "X_train_res, y_train_res = sm.fit_resample(xtrain,ytrain)\n",
    "  \n",
    "print('After OverSampling, the shape of train_X: {}'.format(X_train_res.shape))\n",
    "print('After OverSampling, the shape of train_y: {} \\n'.format(y_train_res.shape))\n",
    "  \n",
    "print(\"After OverSampling, counts of label '1': {}\".format(sum(y_train_res == 1)))\n",
    "print(\"After OverSampling, counts of label '0': {}\".format(sum(y_train_res == 0)))"
   ]
  },
  {
   "cell_type": "code",
   "execution_count": 54,
   "id": "1397c244",
   "metadata": {},
   "outputs": [
    {
     "data": {
      "text/plain": [
       "(14690, 67)"
      ]
     },
     "execution_count": 54,
     "metadata": {},
     "output_type": "execute_result"
    }
   ],
   "source": [
    "X_train_res.shape"
   ]
  },
  {
   "cell_type": "code",
   "execution_count": 57,
   "id": "b61944ff",
   "metadata": {},
   "outputs": [
    {
     "name": "stdout",
     "output_type": "stream",
     "text": [
      "              precision    recall  f1-score   support\n",
      "\n",
      "           0       0.92      0.89      0.90      3077\n",
      "           1       0.53      0.64      0.58       622\n",
      "\n",
      "    accuracy                           0.84      3699\n",
      "   macro avg       0.73      0.76      0.74      3699\n",
      "weighted avg       0.86      0.84      0.85      3699\n",
      "\n",
      "[[2726  351]\n",
      " [ 227  395]]\n"
     ]
    }
   ],
   "source": [
    "# Building a base model usnig Logistic Regression\n",
    "lr=LogisticRegression()\n",
    "lrprd=lr.fit(X_train_res, y_train_res).predict(xtest)\n",
    "print(classification_report(ytest,lrprd))\n",
    "print(confusion_matrix(ytest,lrprd))"
   ]
  },
  {
   "cell_type": "code",
   "execution_count": 59,
   "id": "11ba6bb8",
   "metadata": {},
   "outputs": [
    {
     "name": "stdout",
     "output_type": "stream",
     "text": [
      "              precision    recall  f1-score   support\n",
      "\n",
      "           0       0.94      0.92      0.93      3077\n",
      "           1       0.63      0.72      0.67       622\n",
      "\n",
      "    accuracy                           0.88      3699\n",
      "   macro avg       0.79      0.82      0.80      3699\n",
      "weighted avg       0.89      0.88      0.89      3699\n",
      "\n",
      "[[2816  261]\n",
      " [ 173  449]]\n"
     ]
    }
   ],
   "source": [
    "# Random Forest\n",
    "rf=RandomForestClassifier()\n",
    "rfprd=rf.fit(X_train_res, y_train_res).predict(xtest)\n",
    "print(classification_report(ytest,rfprd))\n",
    "print(confusion_matrix(ytest,rfprd))"
   ]
  },
  {
   "cell_type": "code",
   "execution_count": 65,
   "id": "4e597095",
   "metadata": {},
   "outputs": [
    {
     "name": "stdout",
     "output_type": "stream",
     "text": [
      "              precision    recall  f1-score   support\n",
      "\n",
      "           0       0.93      0.93      0.93      3077\n",
      "           1       0.65      0.66      0.66       622\n",
      "\n",
      "    accuracy                           0.88      3699\n",
      "   macro avg       0.79      0.79      0.79      3699\n",
      "weighted avg       0.88      0.88      0.88      3699\n",
      "\n",
      "[[2858  219]\n",
      " [ 212  410]]\n"
     ]
    }
   ],
   "source": [
    "import xgboost as xgb\n",
    "xg=xgb.XGBClassifier()\n",
    "xgprd=xg.fit(X_train_res, y_train_res).predict(xtest)\n",
    "print(classification_report(ytest,xgprd))\n",
    "print(confusion_matrix(ytest,xgprd))"
   ]
  },
  {
   "cell_type": "code",
   "execution_count": 70,
   "id": "6864aaa3",
   "metadata": {},
   "outputs": [
    {
     "name": "stdout",
     "output_type": "stream",
     "text": [
      "              precision    recall  f1-score   support\n",
      "\n",
      "           0       0.95      0.90      0.92      3077\n",
      "           1       0.60      0.77      0.68       622\n",
      "\n",
      "    accuracy                           0.88      3699\n",
      "   macro avg       0.78      0.83      0.80      3699\n",
      "weighted avg       0.89      0.88      0.88      3699\n",
      "\n",
      "[[2758  319]\n",
      " [ 142  480]]\n"
     ]
    }
   ],
   "source": [
    "from sklearn.ensemble import GradientBoostingClassifier\n",
    "gbm=GradientBoostingClassifier()\n",
    "gbprd=gbm.fit(X_train_res, y_train_res).predict(xtest)\n",
    "print(classification_report(ytest,gbprd))\n",
    "print(confusion_matrix(ytest,gbprd))"
   ]
  },
  {
   "cell_type": "code",
   "execution_count": 74,
   "id": "517fb1ef",
   "metadata": {
    "scrolled": true
   },
   "outputs": [
    {
     "name": "stdout",
     "output_type": "stream",
     "text": [
      "              precision    recall  f1-score   support\n",
      "\n",
      "           0       0.93      0.92      0.93      3077\n",
      "           1       0.63      0.68      0.66       622\n",
      "\n",
      "    accuracy                           0.88      3699\n",
      "   macro avg       0.78      0.80      0.79      3699\n",
      "weighted avg       0.88      0.88      0.88      3699\n",
      "\n",
      "[[2833  244]\n",
      " [ 199  423]]\n"
     ]
    }
   ],
   "source": [
    "import lightgbm as lgb\n",
    "lg=lgb.LGBMClassifier()\n",
    "lgprd=lg.fit(X_train_res, y_train_res).predict(xtest)\n",
    "print(classification_report(ytest,lgprd))\n",
    "print(confusion_matrix(ytest,lgprd))"
   ]
  }
 ],
 "metadata": {
  "kernelspec": {
   "display_name": "Python 3 (ipykernel)",
   "language": "python",
   "name": "python3"
  },
  "language_info": {
   "codemirror_mode": {
    "name": "ipython",
    "version": 3
   },
   "file_extension": ".py",
   "mimetype": "text/x-python",
   "name": "python",
   "nbconvert_exporter": "python",
   "pygments_lexer": "ipython3",
   "version": "3.9.7"
  }
 },
 "nbformat": 4,
 "nbformat_minor": 5
}
